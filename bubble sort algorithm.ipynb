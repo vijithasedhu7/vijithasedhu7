{
 "cells": [
  {
   "cell_type": "markdown",
   "id": "3922ef9e",
   "metadata": {},
   "source": [
    "# BUBBLE SORT ALGORITH"
   ]
  },
  {
   "cell_type": "code",
   "execution_count": 1,
   "id": "16afd8a5",
   "metadata": {},
   "outputs": [],
   "source": [
    "data=[10,23,45,67,-6,-9,89-64]"
   ]
  },
  {
   "cell_type": "code",
   "execution_count": 2,
   "id": "5272d3a8",
   "metadata": {},
   "outputs": [
    {
     "data": {
      "text/plain": [
       "[10, 23, 45, 67, -6, -9, 25]"
      ]
     },
     "execution_count": 2,
     "metadata": {},
     "output_type": "execute_result"
    }
   ],
   "source": [
    "data"
   ]
  },
  {
   "cell_type": "code",
   "execution_count": 7,
   "id": "7b87b85c",
   "metadata": {},
   "outputs": [],
   "source": [
    "def bubble_sort(data):\n",
    "    for i in range(len(data)):#loop of array\n",
    "        for j in range(0,len(data)-i-1):#loop for compring\n",
    "            if data[j]>data[j+1]:\n",
    "                k=data[j]\n",
    "                data[j]=data[j+1]\n",
    "                data[j+1]=k\n",
    "            \n",
    "        "
   ]
  },
  {
   "cell_type": "code",
   "execution_count": 8,
   "id": "fbe295df",
   "metadata": {},
   "outputs": [],
   "source": [
    "bubble_sort(data)"
   ]
  },
  {
   "cell_type": "code",
   "execution_count": 9,
   "id": "3190226e",
   "metadata": {},
   "outputs": [
    {
     "name": "stdout",
     "output_type": "stream",
     "text": [
      "[-9, -6, 10, 23, 25, 45, 67]\n"
     ]
    }
   ],
   "source": [
    "print(data)"
   ]
  },
  {
   "cell_type": "code",
   "execution_count": null,
   "id": "c3dc2453",
   "metadata": {},
   "outputs": [],
   "source": []
  }
 ],
 "metadata": {
  "kernelspec": {
   "display_name": "Python 3 (ipykernel)",
   "language": "python",
   "name": "python3"
  },
  "language_info": {
   "codemirror_mode": {
    "name": "ipython",
    "version": 3
   },
   "file_extension": ".py",
   "mimetype": "text/x-python",
   "name": "python",
   "nbconvert_exporter": "python",
   "pygments_lexer": "ipython3",
   "version": "3.9.17"
  }
 },
 "nbformat": 4,
 "nbformat_minor": 5
}
