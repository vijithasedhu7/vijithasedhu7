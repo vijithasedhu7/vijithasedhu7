{
 "cells": [
  {
   "cell_type": "code",
   "execution_count": 37,
   "id": "1dbb4609",
   "metadata": {},
   "outputs": [],
   "source": [
    "graph={'pkc':['stadium','parking','tree'],\n",
    "      'stadium':['main block'],\n",
    "       'parking':['junction'],\n",
    "       'junction':['entrance','main block'],\n",
    "       'main block':['junction'],\n",
    "       'tree':['pkc'],\n",
    "        'entrance':['junction']}\n"
   ]
  },
  {
   "cell_type": "code",
   "execution_count": 34,
   "id": "6f1b3d1b",
   "metadata": {},
   "outputs": [],
   "source": [
    "from collections import deque\n",
    "def BFS(graph,start,goal):\n",
    "    visited=[]\n",
    "    queue=deque([start])\n",
    "    while queue:\n",
    "        node=queue.popleft()\n",
    "        if node not in visited:\n",
    "            visited.append(node)\n",
    "            print(\"I have visited:\",node)\n",
    "            neighbournode=graph[node]\n",
    "            if node==goal:\n",
    "                print(\"I have reached the goal,the path i travelled is\",visited)\n",
    "            for neighbours in neighbournode:  \n",
    "                queue.append(neighbours)\n"
   ]
  },
  {
   "cell_type": "code",
   "execution_count": 41,
   "id": "0f1d21c1",
   "metadata": {},
   "outputs": [
    {
     "name": "stdout",
     "output_type": "stream",
     "text": [
      "I have visited: pkc\n",
      "I have visited: stadium\n",
      "I have visited: parking\n",
      "I have visited: tree\n",
      "I have visited: main block\n",
      "I have visited: junction\n",
      "I have visited: entrance\n",
      "I have reached the goal,the path i travelled is ['pkc', 'stadium', 'parking', 'tree', 'main block', 'junction', 'entrance']\n"
     ]
    }
   ],
   "source": [
    "BFS(graph,'pkc','entrance')\n"
   ]
  },
  {
   "cell_type": "code",
   "execution_count": null,
   "id": "5efdb82d",
   "metadata": {},
   "outputs": [],
   "source": [
    "map={'pkc':['stadium','parking','tree'],\n",
    "      'stadium':['main block'],\n",
    "       'parking':['junction'],\n",
    "       'junction':['entrance','main block'],\n",
    "       'main block':['junction'],\n",
    "       'tree':['pkc'],\n",
    "        'entrance':['junction']}\n"
   ]
  },
  {
   "cell_type": "code",
   "execution_count": 38,
   "id": "0fa8d59c",
   "metadata": {},
   "outputs": [],
   "source": [
    "from collections import deque\n",
    "def KRS(map,start,goal):\n",
    "    visited=[]\n",
    "    queue=deque([start])\n",
    "    while queue:\n",
    "        node=queue.popleft()\n",
    "        if node not in visited:\n",
    "            visited.append(node)\n",
    "            print(\"I have visited:\",node)\n",
    "            neighbournode=map[node]\n",
    "            if node==goal:\n",
    "                print(\"I have reached the goal,the path i travelled is\",visited)\n",
    "            for neighbours in neighbournode:  \n",
    "                queue.append(neighbours)"
   ]
  },
  {
   "cell_type": "code",
   "execution_count": 40,
   "id": "c5108bbb",
   "metadata": {},
   "outputs": [
    {
     "name": "stdout",
     "output_type": "stream",
     "text": [
      "I have visited: parking\n",
      "I have visited: junction\n",
      "I have visited: entrance\n",
      "I have visited: main block\n"
     ]
    }
   ],
   "source": [
    "KRS(map,'parking','tree')"
   ]
  },
  {
   "cell_type": "code",
   "execution_count": null,
   "id": "473bcf31",
   "metadata": {},
   "outputs": [],
   "source": []
  }
 ],
 "metadata": {
  "kernelspec": {
   "display_name": "Python 3 (ipykernel)",
   "language": "python",
   "name": "python3"
  },
  "language_info": {
   "codemirror_mode": {
    "name": "ipython",
    "version": 3
   },
   "file_extension": ".py",
   "mimetype": "text/x-python",
   "name": "python",
   "nbconvert_exporter": "python",
   "pygments_lexer": "ipython3",
   "version": "3.11.4"
  }
 },
 "nbformat": 4,
 "nbformat_minor": 5
}
