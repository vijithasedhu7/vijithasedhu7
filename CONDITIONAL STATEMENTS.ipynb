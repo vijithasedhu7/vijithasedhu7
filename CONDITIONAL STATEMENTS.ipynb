{
 "cells": [
  {
   "cell_type": "code",
   "execution_count": 5,
   "id": "720c4af0",
   "metadata": {},
   "outputs": [],
   "source": [
    "a=10"
   ]
  },
  {
   "cell_type": "code",
   "execution_count": 6,
   "id": "b4243e57",
   "metadata": {},
   "outputs": [
    {
     "name": "stdout",
     "output_type": "stream",
     "text": [
      "pass\n"
     ]
    }
   ],
   "source": [
    "if a==10:\n",
    "    print(\"pass\")\n",
    "else:\n",
    "    print(\"fail\")\n",
    "    "
   ]
  },
  {
   "cell_type": "code",
   "execution_count": 7,
   "id": "113a16bf",
   "metadata": {},
   "outputs": [],
   "source": [
    "v=23"
   ]
  },
  {
   "cell_type": "code",
   "execution_count": 9,
   "id": "99ec5c6a",
   "metadata": {},
   "outputs": [
    {
     "name": "stdout",
     "output_type": "stream",
     "text": [
      "pass\n"
     ]
    }
   ],
   "source": [
    "if v==23:\n",
    "    print(\"pass\")\n",
    "else:\n",
    "    print(\"fail\")"
   ]
  },
  {
   "cell_type": "code",
   "execution_count": 11,
   "id": "ea8068e9",
   "metadata": {},
   "outputs": [
    {
     "name": "stdout",
     "output_type": "stream",
     "text": [
      "enter your age:18\n",
      "you are eligible for voting\n",
      "enter your name:vijitha sedhu\n",
      "enter your area:asoor\n"
     ]
    }
   ],
   "source": [
    "age=int(input(\"enter your age:\"))\n",
    "if age>=18:\n",
    "    print(\"you are eligible for voting\")\n",
    "    name=input(\"enter your name:\")\n",
    "    location=input(\"enter your area:\")\n",
    "else:\n",
    "    print(\"you are not eligible for voting\")"
   ]
  },
  {
   "cell_type": "code",
   "execution_count": 12,
   "id": "4d54474a",
   "metadata": {
    "scrolled": true
   },
   "outputs": [
    {
     "name": "stdout",
     "output_type": "stream",
     "text": [
      "enter your age:18\n",
      "you are eligible for voting\n",
      "enter your name:vijitha sedhu\n",
      "enter your area:asoor\n",
      "thankyou for entering your details,your vote card will be delivered soon\n"
     ]
    }
   ],
   "source": [
    "age=int(input(\"enter your age:\"))\n",
    "if age>=18:\n",
    "    print(\"you are eligible for voting\")\n",
    "    name=input(\"enter your name:\")\n",
    "    location=input(\"enter your area:\")\n",
    "    print(\"thankyou for entering your details,your vote card will be delivered soon\")\n",
    "else:\n",
    "    print(\"you are not eligible for voting\")"
   ]
  },
  {
   "cell_type": "code",
   "execution_count": 20,
   "id": "8a65ad7a",
   "metadata": {},
   "outputs": [
    {
     "ename": "SyntaxError",
     "evalue": "invalid syntax (2921991177.py, line 2)",
     "output_type": "error",
     "traceback": [
      "\u001b[1;36m  Cell \u001b[1;32mIn[20], line 2\u001b[1;36m\u001b[0m\n\u001b[1;33m    if day>=4\u001b[0m\n\u001b[1;37m             ^\u001b[0m\n\u001b[1;31mSyntaxError\u001b[0m\u001b[1;31m:\u001b[0m invalid syntax\n"
     ]
    }
   ],
   "source": [
    "day=int(input(\"enter the day:\"))\n",
    "if day>=4\n",
    "    print(\"your fine amount is 10\")\n",
    "else: \n",
    "    day>=5\n",
    "    print(\"your fine amount is 15\")\n",
    "elif: day>=6\n",
    "    print(\"your fine amount in 20\")\n",
    "    "
   ]
  },
  {
   "cell_type": "code",
   "execution_count": null,
   "id": "46646b7f",
   "metadata": {},
   "outputs": [],
   "source": []
  }
 ],
 "metadata": {
  "kernelspec": {
   "display_name": "Python 3 (ipykernel)",
   "language": "python",
   "name": "python3"
  },
  "language_info": {
   "codemirror_mode": {
    "name": "ipython",
    "version": 3
   },
   "file_extension": ".py",
   "mimetype": "text/x-python",
   "name": "python",
   "nbconvert_exporter": "python",
   "pygments_lexer": "ipython3",
   "version": "3.9.17"
  }
 },
 "nbformat": 4,
 "nbformat_minor": 5
}
