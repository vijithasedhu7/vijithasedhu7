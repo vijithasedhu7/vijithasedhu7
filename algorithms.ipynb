{
 "cells": [
  {
   "cell_type": "code",
   "execution_count": 1,
   "id": "75ab59d6",
   "metadata": {},
   "outputs": [],
   "source": [
    " mark=[1,2,3,4]"
   ]
  },
  {
   "cell_type": "code",
   "execution_count": 2,
   "id": "b80b3592",
   "metadata": {},
   "outputs": [
    {
     "name": "stdout",
     "output_type": "stream",
     "text": [
      "enter your mark:100\n",
      "enter your mark:99\n",
      "enter your mark:98\n",
      "enter your mark:97\n"
     ]
    }
   ],
   "source": [
    "for step in mark:\n",
    "    input(\"enter your mark:\")\n",
    "    "
   ]
  },
  {
   "cell_type": "code",
   "execution_count": 8,
   "id": "bd218b0d",
   "metadata": {},
   "outputs": [
    {
     "name": "stdout",
     "output_type": "stream",
     "text": [
      "enter number of subjects:5\n",
      "enter the marks:100\n",
      "enter the marks:99\n",
      "enter the marks:98\n",
      "enter the marks:97\n",
      "enter the marks:100\n",
      "average=98.8\n",
      "pass\n"
     ]
    }
   ],
   "source": [
    "\n",
    "    n=int(input(\"enter number of subjects:\"))\n",
    "    sum=0\n",
    "    for i in range(0,n):\n",
    "        mark=int(input(\"enter the marks:\"))\n",
    "        sum+=mark\n",
    "    avg=sum/n\n",
    "    print(f\"average={avg}\")\n",
    "    if avg>35:\n",
    "        print(\"pass\")\n",
    "    else:    \n",
    "        print(\"fail\")"
   ]
  },
  {
   "cell_type": "code",
   "execution_count": 16,
   "id": "bf4d3743",
   "metadata": {},
   "outputs": [
    {
     "name": "stdout",
     "output_type": "stream",
     "text": [
      "enter mark1:56\n",
      "enter mark2:98\n",
      "enter mark3:98\n",
      "enter mark4:98\n",
      "enter mark5:99\n",
      "enter mark6:78\n",
      "enter mark7:76\n",
      "enter mark8:45\n",
      "enter mark9:90\n",
      "enter mark10:45\n"
     ]
    }
   ],
   "source": [
    "#acquring data\n",
    "marks=[]\n",
    "for m in range(1,11):\n",
    "    marks.append(input(f\"enter mark{m}:\"))"
   ]
  },
  {
   "cell_type": "code",
   "execution_count": 18,
   "id": "94ed3c00",
   "metadata": {},
   "outputs": [
    {
     "ename": "TypeError",
     "evalue": "'int' object is not callable",
     "output_type": "error",
     "traceback": [
      "\u001b[1;31m---------------------------------------------------------------------------\u001b[0m",
      "\u001b[1;31mTypeError\u001b[0m                                 Traceback (most recent call last)",
      "Cell \u001b[1;32mIn[18], line 1\u001b[0m\n\u001b[1;32m----> 1\u001b[0m avg\u001b[38;5;241m=\u001b[39m\u001b[38;5;28;43msum\u001b[39;49m\u001b[43m(\u001b[49m\u001b[43mmarks\u001b[49m\u001b[43m)\u001b[49m\u001b[38;5;241m/\u001b[39m\u001b[38;5;241m10\u001b[39m\n\u001b[0;32m      2\u001b[0m avg\n",
      "\u001b[1;31mTypeError\u001b[0m: 'int' object is not callable"
     ]
    }
   ],
   "source": [
    "avg=sum(marks)/10\n",
    "avg\n"
   ]
  },
  {
   "cell_type": "code",
   "execution_count": 20,
   "id": "880279f0",
   "metadata": {},
   "outputs": [
    {
     "ename": "SyntaxError",
     "evalue": "invalid syntax (1584114317.py, line 1)",
     "output_type": "error",
     "traceback": [
      "\u001b[1;36m  Cell \u001b[1;32mIn[20], line 1\u001b[1;36m\u001b[0m\n\u001b[1;33m    if avg>40;\u001b[0m\n\u001b[1;37m             ^\u001b[0m\n\u001b[1;31mSyntaxError\u001b[0m\u001b[1;31m:\u001b[0m invalid syntax\n"
     ]
    }
   ],
   "source": [
    "if avg>40;\n",
    "    print(\"you are pass\")\n",
    "else:\n",
    "    print(\"you are fail\")"
   ]
  },
  {
   "cell_type": "markdown",
   "id": "3782fcc4",
   "metadata": {},
   "source": [
    "# 1.CREATING DATA SET\n",
    "# data sequence where the desired/searching element is going to be searched"
   ]
  },
  {
   "cell_type": "code",
   "execution_count": 21,
   "id": "444b1de8",
   "metadata": {},
   "outputs": [],
   "source": [
    "data=[45,67,9,66,34,8,21,44,88,99,55,3,86]"
   ]
  },
  {
   "cell_type": "code",
   "execution_count": 22,
   "id": "489052e5",
   "metadata": {},
   "outputs": [],
   "source": [
    "data.sort()"
   ]
  },
  {
   "cell_type": "code",
   "execution_count": 23,
   "id": "9fc99706",
   "metadata": {},
   "outputs": [
    {
     "name": "stdout",
     "output_type": "stream",
     "text": [
      "[3, 8, 9, 21, 34, 44, 45, 55, 66, 67, 86, 88, 99]\n"
     ]
    }
   ],
   "source": [
    "print(data)"
   ]
  },
  {
   "cell_type": "code",
   "execution_count": 24,
   "id": "da548730",
   "metadata": {},
   "outputs": [
    {
     "name": "stdout",
     "output_type": "stream",
     "text": [
      "enter the search element66\n"
     ]
    }
   ],
   "source": [
    "element=int(input(\"enter the search element\"))"
   ]
  },
  {
   "cell_type": "code",
   "execution_count": 26,
   "id": "546107fe",
   "metadata": {},
   "outputs": [
    {
     "ename": "SyntaxError",
     "evalue": "invalid syntax (1679613843.py, line 12)",
     "output_type": "error",
     "traceback": [
      "\u001b[1;36m  Cell \u001b[1;32mIn[26], line 12\u001b[1;36m\u001b[0m\n\u001b[1;33m    elif data[middle]>elem:\u001b[0m\n\u001b[1;37m    ^\u001b[0m\n\u001b[1;31mSyntaxError\u001b[0m\u001b[1;31m:\u001b[0m invalid syntax\n"
     ]
    }
   ],
   "source": [
    "def binary_search(data,elem):\n",
    "    low=0\n",
    "    high=len(data)-1\n",
    "    \n",
    "    while low<=high:\n",
    "        middle=(low+high)//2\n",
    "        \n",
    "        if data[middle]==elem:\n",
    "            print(f\"the searching element{elem} is present at index\")\n",
    "            break\n",
    "            \n",
    "            elif data[middle]>elem:\n",
    "                high=middle-1\n",
    "            else:\n",
    "                low = middle + 1\n",
    "    if data[middle]!=elem:\n",
    "        print(f\"the searching element{elem} is not present at index\")\n",
    "        return-1"
   ]
  },
  {
   "cell_type": "code",
   "execution_count": null,
   "id": "cb72f47d",
   "metadata": {},
   "outputs": [],
   "source": []
  }
 ],
 "metadata": {
  "kernelspec": {
   "display_name": "Python 3 (ipykernel)",
   "language": "python",
   "name": "python3"
  },
  "language_info": {
   "codemirror_mode": {
    "name": "ipython",
    "version": 3
   },
   "file_extension": ".py",
   "mimetype": "text/x-python",
   "name": "python",
   "nbconvert_exporter": "python",
   "pygments_lexer": "ipython3",
   "version": "3.9.17"
  }
 },
 "nbformat": 4,
 "nbformat_minor": 5
}
