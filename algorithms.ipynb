{
 "cells": [
  {
   "cell_type": "code",
   "execution_count": null,
   "id": "75ab59d6",
   "metadata": {},
   "outputs": [],
   "source": [
    " mark=[1,2,3,4]"
   ]
  },
  {
   "cell_type": "code",
   "execution_count": null,
   "id": "b80b3592",
   "metadata": {},
   "outputs": [],
   "source": [
    "for step in mark:\n",
    "    input(\"enter your mark:\")\n",
    "    "
   ]
  },
  {
   "cell_type": "code",
   "execution_count": null,
   "id": "bd218b0d",
   "metadata": {},
   "outputs": [],
   "source": [
    "\n",
    "    n=int(input(\"enter number of subjects:\"))\n",
    "    sum=0\n",
    "    for i in range(0,n):\n",
    "        mark=int(input(\"enter the marks:\"))\n",
    "        sum+=mark\n",
    "    avg=sum/n\n",
    "    print(f\"average={avg}\")\n",
    "    if avg>35:\n",
    "        print(\"pass\")\n",
    "    else:    \n",
    "        print(\"fail\")"
   ]
  },
  {
   "cell_type": "code",
   "execution_count": null,
   "id": "bf4d3743",
   "metadata": {},
   "outputs": [],
   "source": [
    "#acquring data\n",
    "marks=[]\n",
    "for m in range(1,11):\n",
    "    marks.append(input(f\"enter mark{m}:\"))"
   ]
  },
  {
   "cell_type": "code",
   "execution_count": null,
   "id": "94ed3c00",
   "metadata": {},
   "outputs": [],
   "source": [
    "avg=sum(marks)/10\n",
    "avg\n"
   ]
  },
  {
   "cell_type": "code",
   "execution_count": null,
   "id": "880279f0",
   "metadata": {},
   "outputs": [],
   "source": [
    "if avg>40;\n",
    "    print(\"you are pass\")\n",
    "else:\n",
    "    print(\"you are fail\")"
   ]
  },
  {
   "cell_type": "markdown",
   "id": "3782fcc4",
   "metadata": {},
   "source": [
    "# 1.CREATING DATA SET\n",
    "# data sequence where the desired/searching element is going to be searched"
   ]
  },
  {
   "cell_type": "code",
   "execution_count": 10,
   "id": "444b1de8",
   "metadata": {},
   "outputs": [],
   "source": [
    "data=[45,67,9,66,34,8,21,44,88,99,55,3,86]"
   ]
  },
  {
   "cell_type": "code",
   "execution_count": 11,
   "id": "489052e5",
   "metadata": {},
   "outputs": [],
   "source": [
    "data.sort()"
   ]
  },
  {
   "cell_type": "code",
   "execution_count": 12,
   "id": "9fc99706",
   "metadata": {},
   "outputs": [
    {
     "name": "stdout",
     "output_type": "stream",
     "text": [
      "[3, 8, 9, 21, 34, 44, 45, 55, 66, 67, 86, 88, 99]\n"
     ]
    }
   ],
   "source": [
    "print(data)"
   ]
  },
  {
   "cell_type": "code",
   "execution_count": 19,
   "id": "da548730",
   "metadata": {},
   "outputs": [
    {
     "name": "stdout",
     "output_type": "stream",
     "text": [
      "enter the search element55\n"
     ]
    }
   ],
   "source": [
    "elem=int(input(\"enter the search element\"))"
   ]
  },
  {
   "cell_type": "code",
   "execution_count": 20,
   "id": "546107fe",
   "metadata": {},
   "outputs": [],
   "source": [
    "def binary_search(data,elem):\n",
    "    low=0\n",
    "    high=len(data)-1\n",
    "    \n",
    "    while low<=high:\n",
    "        middle=(low+high)//2        \n",
    "        if data[middle]==elem:\n",
    "            print(f\"the searching element{elem} is present at index value{middle} in dataset\")\n",
    "            break\n",
    "            \n",
    "        elif data[middle]>elem:\n",
    "                 high=middle-1\n",
    "        else:\n",
    "                 low = middle + 1\n",
    "    if data[middle]!=elem:\n",
    "        print(f\"the searching element{elem} is not present at index is not present in the dataset\")\n",
    "        return"
   ]
  },
  {
   "cell_type": "code",
   "execution_count": 21,
   "id": "cb72f47d",
   "metadata": {},
   "outputs": [
    {
     "name": "stdout",
     "output_type": "stream",
     "text": [
      "the searching element55 is present at index value7 in dataset\n"
     ]
    }
   ],
   "source": [
    "binary_search(data,elem)"
   ]
  },
  {
   "cell_type": "code",
   "execution_count": null,
   "id": "5354b1fb",
   "metadata": {},
   "outputs": [],
   "source": []
  },
  {
   "cell_type": "code",
   "execution_count": null,
   "id": "0f3a415a",
   "metadata": {},
   "outputs": [],
   "source": []
  },
  {
   "cell_type": "code",
   "execution_count": null,
   "id": "039bf287",
   "metadata": {},
   "outputs": [],
   "source": [
    "\n",
    "\n"
   ]
  },
  {
   "cell_type": "code",
   "execution_count": null,
   "id": "82edf9e4",
   "metadata": {},
   "outputs": [],
   "source": []
  },
  {
   "cell_type": "code",
   "execution_count": null,
   "id": "ea95a645",
   "metadata": {},
   "outputs": [],
   "source": []
  }
 ],
 "metadata": {
  "kernelspec": {
   "display_name": "Python 3 (ipykernel)",
   "language": "python",
   "name": "python3"
  },
  "language_info": {
   "codemirror_mode": {
    "name": "ipython",
    "version": 3
   },
   "file_extension": ".py",
   "mimetype": "text/x-python",
   "name": "python",
   "nbconvert_exporter": "python",
   "pygments_lexer": "ipython3",
   "version": "3.9.17"
  }
 },
 "nbformat": 4,
 "nbformat_minor": 5
}
