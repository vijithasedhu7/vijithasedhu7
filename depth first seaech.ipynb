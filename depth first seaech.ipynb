{
 "cells": [
  {
   "cell_type": "markdown",
   "id": "ac576d14",
   "metadata": {},
   "source": [
    "# task\n"
   ]
  },
  {
   "cell_type": "code",
   "execution_count": 42,
   "id": "5abd9711",
   "metadata": {},
   "outputs": [],
   "source": [
    "graph={'hostel':['bamboo forest','tree'],\n",
    "       'tree':['play ground','guest house','einstein hall','stadium'],\n",
    "       'play ground':['tree'],\n",
    "       'guest house':['tree'],\n",
    "       'einstein hall':['pkc','tree'],\n",
    "       'pkc':['stadium'],\n",
    "       'main block':['stadium'],\n",
    "       'entrance':['parking','main block','tree'],\n",
    "       'stadium':['pkc','main block'],\n",
    "       'bamboo forest':['hostel']}\n",
    "       "
   ]
  },
  {
   "cell_type": "code",
   "execution_count": 43,
   "id": "203dc74a",
   "metadata": {},
   "outputs": [],
   "source": [
    "from collections import deque\n",
    "def KRS(graph,start,goal):\n",
    "    visited=[]\n",
    "    queue=deque([start])\n",
    "    while queue:\n",
    "        node=queue.popleft()\n",
    "        if node not in visited:\n",
    "            visited.append(node)\n",
    "            print(\"I have visited:\",node)\n",
    "            neighbournode=graph[node]\n",
    "            if node==goal:\n",
    "                print(\"I have reached the goal,the path i travelled is\",visited)\n",
    "            for neighbours in neighbournode:  \n",
    "                queue.append(neighbours)\n"
   ]
  },
  {
   "cell_type": "code",
   "execution_count": 44,
   "id": "8878dd55",
   "metadata": {},
   "outputs": [
    {
     "name": "stdout",
     "output_type": "stream",
     "text": [
      "I have visited: hostel\n",
      "I have visited: bamboo forest\n",
      "I have visited: tree\n",
      "I have visited: play ground\n",
      "I have visited: guest house\n",
      "I have visited: einstein hall\n",
      "I have visited: stadium\n",
      "I have visited: pkc\n",
      "I have reached the goal,the path i travelled is ['hostel', 'bamboo forest', 'tree', 'play ground', 'guest house', 'einstein hall', 'stadium', 'pkc']\n",
      "I have visited: main block\n"
     ]
    }
   ],
   "source": [
    "KRS(graph,'hostel','pkc')"
   ]
  },
  {
   "cell_type": "code",
   "execution_count": 46,
   "id": "a88a14c4",
   "metadata": {},
   "outputs": [
    {
     "name": "stdout",
     "output_type": "stream",
     "text": [
      "I have visited: pkc\n",
      "I have visited: stadium\n",
      "I have visited: main block\n",
      "I have reached the goal,the path i travelled is ['pkc', 'stadium', 'main block']\n"
     ]
    }
   ],
   "source": [
    "KRS(graph,'pkc','main block')"
   ]
  },
  {
   "cell_type": "markdown",
   "id": "4f681f26",
   "metadata": {},
   "source": [
    "# DEPTH FIRST SEARCH"
   ]
  },
  {
   "cell_type": "code",
   "execution_count": 92,
   "id": "181ab20f",
   "metadata": {},
   "outputs": [],
   "source": [
    "graph={'hostel':['bamboo forest','tree'],\n",
    "       'tree':['play ground','guest house','einstein hall','stadium'],\n",
    "       'play ground':['tree'],\n",
    "       'guest house':['tree'],\n",
    "       'einstein hall':['pkc','tree'],\n",
    "       'pkc':['stadium'],\n",
    "       'main block':['stadium','entrance'],\n",
    "       'entrance':['main block',],\n",
    "       'stadium':['pkc','main block'],\n",
    "       'bamboo forest':['hostel']}\n",
    "     \n",
    "       "
   ]
  },
  {
   "cell_type": "code",
   "execution_count": 93,
   "id": "4d23cd7c",
   "metadata": {},
   "outputs": [],
   "source": [
    "from queue import LifoQueue\n",
    "stack=LifoQueue\n",
    "def dfs(graph,start,goal,visited):\n",
    "    stack=[start]\n",
    "    while stack:\n",
    "        node=stack.pop()\n",
    "        if node not in visited:\n",
    "            visited.append(node)\n",
    "            if node==goal:\n",
    "                print(visited)\n",
    "            for neighbours in graph[node]:\n",
    "                dfs(graph,neighbours,goal,visited)"
   ]
  },
  {
   "cell_type": "code",
   "execution_count": 94,
   "id": "dabd9423",
   "metadata": {},
   "outputs": [
    {
     "name": "stdout",
     "output_type": "stream",
     "text": [
      "['hostel', 'bamboo forest', 'tree', 'play ground', 'guest house', 'einstein hall', 'pkc', 'stadium', 'main block']\n"
     ]
    }
   ],
   "source": [
    "dfs(graph,'hostel','main block',[])"
   ]
  },
  {
   "cell_type": "code",
   "execution_count": 95,
   "id": "845cb1ac",
   "metadata": {},
   "outputs": [
    {
     "name": "stdout",
     "output_type": "stream",
     "text": [
      "['pkc', 'stadium', 'main block', 'entrance']\n"
     ]
    }
   ],
   "source": [
    "dfs(graph,'pkc','entrance',[])"
   ]
  },
  {
   "cell_type": "code",
   "execution_count": null,
   "id": "39ed4e0e",
   "metadata": {},
   "outputs": [],
   "source": []
  }
 ],
 "metadata": {
  "kernelspec": {
   "display_name": "Python 3 (ipykernel)",
   "language": "python",
   "name": "python3"
  },
  "language_info": {
   "codemirror_mode": {
    "name": "ipython",
    "version": 3
   },
   "file_extension": ".py",
   "mimetype": "text/x-python",
   "name": "python",
   "nbconvert_exporter": "python",
   "pygments_lexer": "ipython3",
   "version": "3.11.4"
  }
 },
 "nbformat": 4,
 "nbformat_minor": 5
}
